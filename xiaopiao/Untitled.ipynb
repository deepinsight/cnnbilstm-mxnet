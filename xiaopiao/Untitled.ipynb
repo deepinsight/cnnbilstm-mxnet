{
 "cells": [
  {
   "cell_type": "code",
   "execution_count": 76,
   "metadata": {
    "collapsed": true
   },
   "outputs": [],
   "source": [
    "#coding=utf-8\n",
    "import glob\n",
    "import numpy as np\n",
    "import cv2\n",
    "import sys\n",
    "\n",
    "FROMPREFIX = 'prepared/slicetagged/'\n",
    "TOPREFIX = 'prepared/slicestded/'"
   ]
  },
  {
   "cell_type": "code",
   "execution_count": 77,
   "metadata": {
    "collapsed": false
   },
   "outputs": [],
   "source": [
    "def Standardizer(filename):\n",
    "    #filename = 'prepared/slicetagged/1_收银员：806---七店前台.jpg'\n",
    "\n",
    "    img = cv2.imread(filename,0)\n",
    "    cleanfilename = filename.split('/')[-1]\n",
    "    targetfilename = TOPREFIX+cleanfilename\n",
    "    \n",
    "    if img==None:\n",
    "        return None\n",
    "    \n",
    "    hist0 = 255.0 - np.mean(img, axis=0)\n",
    "    hist0 = (hist0-hist0.min())/(255.0-hist0.min())\n",
    "    THRESHOLD = 2.0/255.0\n",
    "    '''\n",
    "    if cleanfilename == '1_------------------.jpg':\n",
    "        for i in range(len(hist0)/8):\n",
    "            print hist0[8*i:8*(i+1)]\n",
    "    '''\n",
    "    #startpos = \n",
    "    #endpos = \n",
    "    for i in range(len(hist0)):\n",
    "        if hist0[i]<=THRESHOLD:\n",
    "            continue\n",
    "        else:\n",
    "            break\n",
    "    for j in range(len(hist0)):\n",
    "        if hist0[-(j+1)]<=THRESHOLD:\n",
    "            continue\n",
    "        else:\n",
    "            break\n",
    "\n",
    "    tailoredimg = img[:,i:(len(hist0)+1-j)]\n",
    "    t_shape = tailoredimg.shape\n",
    "    rtp = np.zeros((30, 900)) + 255\n",
    "    #print 1.0*t_shape[1]/t_shape[0]\n",
    "    if t_shape[1]>30*t_shape[0]:\n",
    "        newwidth = 900\n",
    "        newheight = np.int(900.0/t_shape[1]*t_shape[0])\n",
    "        #print newheight\n",
    "        rt = cv2.resize(tailoredimg, (newwidth,newheight))\n",
    "    else:\n",
    "        newheight = 30\n",
    "        newwidth = np.int(30.0/t_shape[0]*t_shape[1])\n",
    "        #print newwidth\n",
    "        rt = cv2.resize(tailoredimg, (newwidth,newheight))\n",
    "    \n",
    "    for i in range(newheight):\n",
    "        for j in range(newwidth):\n",
    "            rtp[i,j] = rt[i,j]\n",
    "        \n",
    "    cv2.imwrite( targetfilename , rtp)"
   ]
  },
  {
   "cell_type": "code",
   "execution_count": 78,
   "metadata": {
    "collapsed": false
   },
   "outputs": [
    {
     "name": "stderr",
     "output_type": "stream",
     "text": [
      "/home/liang/anaconda2/envs/frankwang-cv/lib/python2.7/site-packages/ipykernel/__main__.py:8: FutureWarning: comparison to `None` will result in an elementwise object comparison in the future.\n"
     ]
    },
    {
     "name": "stdout",
     "output_type": "stream",
     "text": [
      "21.875\n",
      "14.4444444444\n",
      "21.0\n",
      "0.703703703704\n",
      "10.88\n",
      "7.04347826087\n",
      "13.625\n",
      "10.1363636364\n",
      "25.5714285714\n",
      "10.375\n",
      "18.6\n",
      "11.5238095238\n",
      "14.4444444444\n",
      "21.625\n",
      "5.20833333333\n",
      "7.16\n",
      "15.0\n",
      "9.41666666667\n",
      "6.9\n",
      "18.125\n",
      "7.95833333333\n",
      "16.6666666667\n",
      "21.5\n",
      "10.8333333333\n",
      "2.66666666667\n",
      "5.875\n",
      "2.91666666667\n",
      "12.1565217391\n",
      "14.4\n",
      "8.33333333333\n",
      "10.8333333333\n",
      "17.5\n",
      "16.6\n",
      "6.70588235294\n",
      "15.7\n",
      "5.57692307692\n",
      "22.8571428571\n",
      "5.19444444444\n",
      "5.2\n",
      "3.5\n",
      "21.7083333333\n",
      "10.875\n",
      "19.2\n",
      "21.5769230769\n",
      "2.10714285714\n",
      "11.5238095238\n",
      "13.3214285714\n",
      "9.77777777778\n",
      "9.35714285714\n",
      "13.6875\n",
      "8.33333333333\n",
      "18.6296296296\n",
      "7.77777777778\n",
      "10.9\n",
      "21.9166666667\n",
      "8.04347826087\n",
      "18.8076923077\n",
      "10.9166666667\n",
      "9.375\n",
      "4.20833333333\n",
      "9.78947368421\n",
      "10.3333333333\n",
      "5.22222222222\n",
      "6.69230769231\n",
      "7.66666666667\n",
      "13.4583333333\n",
      "8.0\n",
      "11.1818181818\n",
      "5.11111111111\n",
      "7.22222222222\n",
      "7.35294117647\n",
      "22.9523809524\n",
      "12.8095238095\n",
      "12.6\n",
      "10.875\n",
      "21.6666666667\n",
      "19.4782608696\n",
      "6.66666666667\n",
      "14.5217391304\n",
      "8.33333333333\n",
      "9.4\n",
      "4.0\n",
      "9.6\n",
      "23.0\n",
      "13.36\n",
      "26.4\n",
      "19.8695652174\n",
      "8.58333333333\n",
      "13.8\n",
      "21.5\n",
      "7.16\n",
      "10.875\n",
      "10.1851851852\n",
      "21.6666666667\n",
      "4.54166666667\n",
      "7.17647058824\n",
      "17.3214285714\n",
      "0.978571428571\n",
      "47.4\n",
      "18.3157894737\n",
      "9.95652173913\n",
      "5.30769230769\n",
      "13.0\n",
      "2.2\n",
      "4.33333333333\n",
      "10.3703703704\n",
      "13.7368421053\n",
      "14.8666666667\n",
      "6.72\n",
      "11.24\n",
      "7.72727272727\n",
      "8.33333333333\n",
      "5.95833333333\n",
      "14.8571428571\n",
      "2.29166666667\n",
      "10.1818181818\n",
      "13.7307692308\n",
      "28.0\n",
      "2.03703703704\n",
      "4.46428571429\n",
      "10.875\n",
      "17.4782608696\n",
      "13.3157894737\n",
      "10.0526315789\n",
      "12.7777777778\n",
      "4.88888888889\n",
      "19.2\n",
      "24.6\n",
      "3.16666666667\n",
      "3.08333333333\n",
      "17.7\n",
      "21.7083333333\n",
      "37.1\n",
      "22.5\n",
      "12.0\n",
      "9.69565217391\n",
      "7.64\n",
      "2.65384615385\n",
      "33.4\n",
      "38.3\n",
      "11.1153846154\n",
      "5.11111111111\n",
      "27.8\n",
      "21.4\n",
      "37.6\n",
      "31.9166666667\n",
      "9.84210526316\n",
      "24.7\n",
      "17.5\n",
      "2.29166666667\n",
      "2.375\n",
      "16.0\n",
      "3.82142857143\n",
      "4.3\n",
      "5.42857142857\n",
      "9.65217391304\n",
      "19.8928571429\n",
      "17.0\n",
      "9.42307692308\n",
      "11.28\n",
      "3.35294117647\n",
      "20.84\n",
      "35.8\n",
      "25.9523809524\n",
      "16.5833333333\n",
      "13.9\n",
      "10.875\n",
      "9.69230769231\n",
      "7.1\n",
      "3.41666666667\n",
      "9.95652173913\n",
      "3.03703703704\n",
      "3.9\n",
      "15.7222222222\n",
      "19.7368421053\n",
      "9.15789473684\n",
      "17.4074074074\n",
      "6.95454545455\n",
      "14.4814814815\n",
      "21.36\n",
      "6.17391304348\n",
      "13.9375\n",
      "1.38532110092\n",
      "1.52380952381\n",
      "0.981366459627\n",
      "15.4583333333\n",
      "9.88461538462\n",
      "7.06666666667\n",
      "6.76923076923\n",
      "19.1538461538\n",
      "34.7\n",
      "0.492857142857\n",
      "11.5714285714\n",
      "17.96\n",
      "6.3\n",
      "25.1904761905\n",
      "12.2\n",
      "10.875\n",
      "17.9\n",
      "17.4285714286\n",
      "14.28\n",
      "19.2\n",
      "18.76\n",
      "5.36842105263\n",
      "18.6\n",
      "20.0\n",
      "12.2\n",
      "7.09090909091\n",
      "10.8333333333\n",
      "19.347826087\n",
      "12.619047619\n",
      "6.70833333333\n",
      "13.3333333333\n",
      "19.7727272727\n",
      "10.2272727273\n",
      "11.3043478261\n",
      "11.4\n",
      "9.42307692308\n",
      "13.0\n",
      "8.78260869565\n",
      "9.86363636364\n",
      "6.95652173913\n",
      "10.875\n",
      "21.7083333333\n",
      "5.91666666667\n",
      "7.75\n",
      "21.375\n",
      "10.0909090909\n",
      "12.6\n",
      "18.6666666667\n",
      "29.1111111111\n",
      "6.66666666667\n",
      "4.25\n",
      "7.21428571429\n",
      "6.06172839506\n",
      "18.7916666667\n",
      "4.625\n",
      "7.74074074074\n",
      "10.8333333333\n",
      "13.3333333333\n",
      "6.96153846154\n",
      "21.8\n",
      "25.2\n",
      "19.2\n",
      "15.4444444444\n",
      "10.875\n",
      "69.55\n",
      "17.5238095238\n",
      "8.73684210526\n",
      "8.33333333333\n",
      "10.8333333333\n",
      "11.4347826087\n",
      "19.5652173913\n",
      "6.16\n",
      "21.7083333333\n",
      "27.3\n",
      "10.7916666667\n",
      "13.375\n",
      "38.2\n",
      "7.5\n",
      "10.6153846154\n",
      "8.7619047619\n",
      "13.2173913043\n",
      "10.8333333333\n",
      "7.0\n",
      "10.8333333333\n",
      "8.11538461538\n",
      "5.47826086957\n",
      "10.8181818182\n",
      "12.6538461538\n",
      "21.7083333333\n",
      "27.5555555556\n",
      "10.7\n",
      "10.0384615385\n",
      "11.9\n",
      "21.6666666667\n",
      "10.875\n",
      "3.04232804233\n",
      "7.26086956522\n",
      "5.48\n",
      "18.9\n",
      "8.68965517241\n",
      "8.91666666667\n",
      "12.2\n",
      "9.0\n",
      "19.3043478261\n",
      "16.6\n",
      "12.619047619\n",
      "16.6666666667\n",
      "24.1111111111\n",
      "18.5555555556\n",
      "4.25\n",
      "8.77272727273\n",
      "6.20833333333\n",
      "23.1\n",
      "3.09090909091\n",
      "21.6666666667\n",
      "20.4814814815\n",
      "13.5\n",
      "5.24\n",
      "24.9047619048\n",
      "7.05555555556\n",
      "10.1071428571\n",
      "6.95833333333\n",
      "10.2\n",
      "9.85185185185\n",
      "21.7083333333\n",
      "17.962962963\n",
      "8.63333333333\n",
      "4.32\n",
      "21.5833333333\n",
      "15.2\n",
      "23.7\n",
      "3.59090909091\n",
      "7.03448275862\n",
      "4.45833333333\n",
      "21.5833333333\n",
      "9.3\n",
      "9.44444444444\n",
      "7.77777777778\n",
      "10.8095238095\n",
      "9.2\n",
      "9.375\n",
      "8.77272727273\n",
      "10.5\n",
      "7.59259259259\n",
      "11.1666666667\n",
      "5.0\n",
      "3.29761904762\n",
      "17.1666666667\n",
      "11.4761904762\n",
      "38.2\n",
      "10.875\n",
      "19.2592592593\n",
      "17.3333333333\n",
      "19.5\n",
      "21.7083333333\n",
      "9.03846153846\n",
      "34.0\n",
      "1.65476190476\n",
      "6.09090909091\n",
      "2.68571428571\n",
      "19.8333333333\n",
      "21.625\n",
      "10.8333333333\n",
      "3.96296296296\n",
      "10.0384615385\n",
      "19.6086956522\n",
      "30.4\n",
      "20.9615384615\n",
      "13.7777777778\n",
      "4.45454545455\n",
      "6.44\n",
      "19.7307692308\n",
      "21.7083333333\n",
      "21.6666666667\n",
      "9.3\n",
      "25.0\n",
      "18.7\n",
      "8.9\n",
      "10.6666666667\n",
      "10.875\n",
      "7.34615384615\n",
      "10.875\n",
      "10.875\n",
      "21.625\n",
      "17.7916666667\n",
      "10.92\n",
      "8.41666666667\n",
      "10.8333333333\n",
      "14.2222222222\n",
      "19.1\n",
      "18.7916666667\n",
      "38.2\n",
      "9.8\n",
      "21.5416666667\n",
      "20.7368421053\n",
      "8.8\n",
      "7.79166666667\n",
      "21.6666666667\n",
      "21.7083333333\n",
      "8.8\n",
      "39.6818181818\n",
      "24.7777777778\n",
      "15.2\n",
      "6.95454545455\n",
      "9.65384615385\n",
      "8.66666666667\n",
      "19.3928571429\n",
      "9.65217391304\n",
      "11.4347826087\n",
      "5.55555555556\n",
      "12.4761904762\n",
      "10.875\n",
      "36.125\n",
      "7.17647058824\n",
      "19.1\n",
      "9.03703703704\n",
      "21.7083333333\n",
      "10.875\n",
      "26.0\n",
      "5.46153846154\n",
      "6.6\n",
      "12.2\n",
      "4.94117647059\n",
      "17.0\n",
      "14.0\n",
      "18.0\n",
      "11.0\n",
      "7.0\n",
      "12.2\n",
      "28.1\n",
      "19.2\n",
      "14.1111111111\n",
      "12.3043478261\n",
      "7.46666666667\n",
      "31.3888888889\n",
      "21.9444444444\n",
      "4.03448275862\n",
      "13.4\n",
      "10.9333333333\n",
      "15.5555555556\n",
      "11.125\n",
      "21.5833333333\n",
      "25.1904761905\n",
      "13.0952380952\n",
      "10.6842105263\n",
      "9.61538461538\n",
      "8.0\n",
      "20.3181818182\n",
      "3.70588235294\n",
      "21.7083333333\n",
      "26.0\n",
      "17.4230769231\n",
      "19.1\n",
      "26.2222222222\n",
      "8.66666666667\n",
      "11.4347826087\n",
      "4.39130434783\n",
      "18.9642857143\n",
      "10.8125\n",
      "21.625\n",
      "31.6\n",
      "3.95454545455\n",
      "21.6666666667\n",
      "7.33333333333\n",
      "12.3333333333\n",
      "11.0\n",
      "14.875\n",
      "11.8181818182\n",
      "10.8076923077\n",
      "12.0909090909\n",
      "21.75\n",
      "21.625\n",
      "13.3461538462\n",
      "18.0\n",
      "11.4347826087\n",
      "13.0588235294\n",
      "18.5925925926\n",
      "6.0\n",
      "20.84\n",
      "23.0\n",
      "14.3\n",
      "11.6571428571\n",
      "9.04761904762\n",
      "15.1904761905\n",
      "8.73076923077\n",
      "10.0740740741\n",
      "8.77272727273\n",
      "10.625\n",
      "6.3\n",
      "29.3333333333\n",
      "6.8\n",
      "9.65384615385\n",
      "20.5555555556\n",
      "9.33333333333\n",
      "5.52\n",
      "21.7083333333\n",
      "23.1739130435\n",
      "41.0\n",
      "23.8\n",
      "10.9565217391\n",
      "12.6\n",
      "0.490683229814\n",
      "4.0\n",
      "22.4545454545\n",
      "12.4\n",
      "19.4\n",
      "21.0\n",
      "13.5\n",
      "19.3913043478\n",
      "4.88888888889\n",
      "4.15384615385\n",
      "12.5555555556\n",
      "3.26666666667\n",
      "16.0416666667\n",
      "7.0\n",
      "12.8\n",
      "3.375\n",
      "26.5714285714\n",
      "19.8636363636\n",
      "2.95833333333\n",
      "21.6666666667\n",
      "13.2857142857\n"
     ]
    }
   ],
   "source": [
    "if __name__ == \"__main__\":\n",
    "    filelist = glob.glob(FROMPREFIX+'*.jpg')\n",
    "    for filename in filelist:\n",
    "        #print filename\n",
    "        Standardizer(filename)"
   ]
  },
  {
   "cell_type": "code",
   "execution_count": 84,
   "metadata": {
    "collapsed": false
   },
   "outputs": [],
   "source": [
    "import itertools\n",
    "L = sorted(itertools.combinations_with_replacement(range(5),2),key=lambda x:x[1])\n"
   ]
  },
  {
   "cell_type": "code",
   "execution_count": 86,
   "metadata": {
    "collapsed": false
   },
   "outputs": [
    {
     "ename": "ValueError",
     "evalue": "invalid literal for int() with base 10: ''",
     "output_type": "error",
     "traceback": [
      "\u001b[0;31m\u001b[0m",
      "\u001b[0;31mValueError\u001b[0mTraceback (most recent call last)",
      "\u001b[0;32m<ipython-input-86-5ab1b188288a>\u001b[0m in \u001b[0;36m<module>\u001b[0;34m()\u001b[0m\n\u001b[0;32m----> 1\u001b[0;31m \u001b[0mint\u001b[0m\u001b[0;34m(\u001b[0m\u001b[0;34m''\u001b[0m\u001b[0;34m)\u001b[0m\u001b[0;34m\u001b[0m\u001b[0m\n\u001b[0m",
      "\u001b[0;31mValueError\u001b[0m: invalid literal for int() with base 10: ''"
     ]
    }
   ],
   "source": [
    "int('')"
   ]
  },
  {
   "cell_type": "code",
   "execution_count": 32,
   "metadata": {
    "collapsed": true
   },
   "outputs": [],
   "source": []
  },
  {
   "cell_type": "code",
   "execution_count": 33,
   "metadata": {
    "collapsed": false
   },
   "outputs": [
    {
     "data": {
      "text/plain": [
       "(19, 191)"
      ]
     },
     "execution_count": 33,
     "metadata": {},
     "output_type": "execute_result"
    }
   ],
   "source": [
    "tailoredimg.shape"
   ]
  },
  {
   "cell_type": "code",
   "execution_count": 35,
   "metadata": {
    "collapsed": false
   },
   "outputs": [
    {
     "data": {
      "text/plain": [
       "True"
      ]
     },
     "execution_count": 35,
     "metadata": {},
     "output_type": "execute_result"
    }
   ],
   "source": []
  },
  {
   "cell_type": "code",
   "execution_count": null,
   "metadata": {
    "collapsed": true
   },
   "outputs": [],
   "source": [
    "img = cv2.imread(filename,0)\n",
    "cleanfilename = filename.split('/')[-1]\n",
    "hist1 = 255.0-np.mean(img, axis=1)\n",
    "hist1 = (hist1-hist1.min())/(255.0-hist1.min())\n",
    "\n",
    "THRESHOLD = 2.0/255.0\n",
    "HEADING = 7\n",
    "TRAILING = 1\n",
    "\n",
    "startpos = np.zeros(len(hist1))\n",
    "endpos = np.zeros(len(hist1))\n",
    "\n",
    "active = False\n",
    "\n",
    "for i in range(len(hist1)):\n",
    "    if np.all(hist1[max(i-HEADING,0):i] > THRESHOLD) and active==False:\n",
    "        startpos[max(i-HEADING,0)] = 1\n",
    "        active = True\n",
    "    if np.all(hist1[max(i-TRAILING,0):i] < THRESHOLD) and active==True:\n",
    "        endpos[i] = 1\n",
    "        active = False\n",
    "\n",
    "startpoint, endpoint = None, None\n",
    "pic_num = 0\n",
    "for i in range(len(startpos)):\n",
    "    if startpos[i] == 1:\n",
    "        startpoint = i\n",
    "    if endpos[i] == 1:\n",
    "        endpoint = i\n",
    "        #\n",
    "        pic_num+=1\n",
    "        cv2.imwrite(TARGETPREFIX + cleanfilename + '{0:0>3}.jpg'.format(pic_num),img[startpoint:endpoint, :])\n",
    "        startpoint, endpoint = None, None\n",
    "if startpoint != None:\n",
    "    pic_num += 1\n",
    "    cv.imwrite(TARGETPREFIX + cleanfilename + '{0:0>3}.jpg'.format(pic_num) ,img[startpoint:, :])"
   ]
  },
  {
   "cell_type": "code",
   "execution_count": 103,
   "metadata": {
    "collapsed": true
   },
   "outputs": [],
   "source": [
    "import itertools\n",
    "def largestPalindrome(n):\n",
    "    \"\"\"\n",
    "    :type n: int\n",
    "    :rtype: int\n",
    "    \"\"\"\n",
    "    if n==1:\n",
    "        return 9\n",
    "    L = sorted(itertools.combinations(range(int('9'*n) ),2),\n",
    "               key=lambda x:np.log(int('9'*n)-x[0])+np.log(int('9'*n)-x[1]), reversed=True)\n",
    "    D = [int('90'*i) for i in range(1,n+1)] + [1]\n",
    "    for i,\n",
    "        r,s = int('9'*n)-i,int('9'*n)-j\n",
    "        if r%11!=0 and s%11!=0:\n",
    "            continue\n",
    "        t = r/11*s if r%11==0 else s/11*r\n",
    "        for d in D:\n",
    "            if t%d>=10:\n",
    "                break\n",
    "            t%=d\n",
    "        else:\n",
    "            return r,s\n",
    "    else:\n",
    "        return None"
   ]
  },
  {
   "cell_type": "code",
   "execution_count": null,
   "metadata": {
    "collapsed": false
   },
   "outputs": [],
   "source": [
    "largestPalindrome(8)"
   ]
  },
  {
   "cell_type": "code",
   "execution_count": 100,
   "metadata": {
    "collapsed": false
   },
   "outputs": [
    {
     "data": {
      "text/plain": [
       "989010"
      ]
     },
     "execution_count": 100,
     "metadata": {},
     "output_type": "execute_result"
    }
   ],
   "source": [
    "999*990"
   ]
  },
  {
   "cell_type": "code",
   "execution_count": null,
   "metadata": {
    "collapsed": false
   },
   "outputs": [],
   "source": [
    "import itertools\n",
    "import numpy as np\n",
    "n = 8\n",
    "99999999"
   ]
  },
  {
   "cell_type": "code",
   "execution_count": 25,
   "metadata": {
    "collapsed": false,
    "scrolled": false
   },
   "outputs": [],
   "source": [
    "n = 1\n",
    "\n",
    "def LargestPalindrome(n):\n",
    "    bestlatter = (1,9,9) if n==1 else (0,0,0)\n",
    "    for i in range(int('9'*n),0,-1):\n",
    "        for j in range(int(int('9'*n)/11)*11,i,-11):\n",
    "            k =  i*j\n",
    "            if str(i*j)[::-1] == str(i*j) and bestlatter[2]<i*j:\n",
    "                bestlatter = (i,j,k)\n",
    "                break\n",
    "        if i* int('9'*n) < bestlatter[2]:\n",
    "            return bestlatter[2]"
   ]
  },
  {
   "cell_type": "code",
   "execution_count": 26,
   "metadata": {
    "collapsed": false
   },
   "outputs": [
    {
     "data": {
      "text/plain": [
       "9999000000009999"
      ]
     },
     "execution_count": 26,
     "metadata": {},
     "output_type": "execute_result"
    }
   ],
   "source": [
    "LargestPalindrome(8)\n",
    "\n"
   ]
  },
  {
   "cell_type": "code",
   "execution_count": 82,
   "metadata": {
    "collapsed": true
   },
   "outputs": [],
   "source": [
    "def inspect(ss,p):\n",
    "    for i in ss:\n",
    "        print i,\n",
    "    print '\\n'\n",
    "    for i in p:\n",
    "        print i,\n",
    "    print '\\n'"
   ]
  },
  {
   "cell_type": "code",
   "execution_count": 106,
   "metadata": {
    "collapsed": false
   },
   "outputs": [],
   "source": [
    "s = '12212321'\n",
    "ss = '#'+'#'.join(list(s))+'#'\n"
   ]
  },
  {
   "cell_type": "code",
   "execution_count": 107,
   "metadata": {
    "collapsed": false
   },
   "outputs": [
    {
     "name": "stdout",
     "output_type": "stream",
     "text": [
      "# 1 # 2 # 2 # 1 # 2 # 3 # 2 # 1 #\n"
     ]
    }
   ],
   "source": [
    "for i in ss:\n",
    "    print i,"
   ]
  },
  {
   "cell_type": "code",
   "execution_count": null,
   "metadata": {
    "collapsed": false
   },
   "outputs": [],
   "source": []
  },
  {
   "cell_type": "code",
   "execution_count": 108,
   "metadata": {
    "collapsed": true
   },
   "outputs": [],
   "source": [
    "import numpy as np"
   ]
  },
  {
   "cell_type": "code",
   "execution_count": 122,
   "metadata": {
    "collapsed": false
   },
   "outputs": [
    {
     "name": "stdout",
     "output_type": "stream",
     "text": [
      "step start\n",
      "# 1 # 2 # 2 # 1 # 2 # 3 # 2 # 1 # \n",
      "\n",
      "0 0 0 0 0 0 0 0 0 0 0 0 0 0 0 0 0 \n",
      "\n",
      "max= 0 cid= 0\n",
      "init p[idx]\n",
      "# 1 # 2 # 2 # 1 # 2 # 3 # 2 # 1 # \n",
      "\n",
      "1 0 0 0 0 0 0 0 0 0 0 0 0 0 0 0 0 \n",
      "\n",
      "max= 0 cid= 0\n",
      "2 0\n",
      "expand\n",
      "# 1 # 2 # 2 # 1 # 2 # 3 # 2 # 1 # \n",
      "\n",
      "1 0 0 0 0 0 0 0 0 0 0 0 0 0 0 0 0 \n",
      "\n",
      "max= 0 cid= 0\n",
      "step start\n",
      "# 1 # 2 # 2 # 1 # 2 # 3 # 2 # 1 # \n",
      "\n",
      "1 0 0 0 0 0 0 0 0 0 0 0 0 0 0 0 0 \n",
      "\n",
      "max= 2 cid= 1\n",
      "init p[idx]\n",
      "# 1 # 2 # 2 # 1 # 2 # 3 # 2 # 1 # \n",
      "\n",
      "1 1 0 0 0 0 0 0 0 0 0 0 0 0 0 0 0 \n",
      "\n",
      "max= 2 cid= 1\n",
      "3 1\n",
      "expand\n",
      "# 1 # 2 # 2 # 1 # 2 # 3 # 2 # 1 # \n",
      "\n",
      "1 2 0 0 0 0 0 0 0 0 0 0 0 0 0 0 0 \n",
      "\n",
      "max= 2 cid= 1\n",
      "step start\n",
      "# 1 # 2 # 2 # 1 # 2 # 3 # 2 # 1 # \n",
      "\n",
      "1 2 0 0 0 0 0 0 0 0 0 0 0 0 0 0 0 \n",
      "\n",
      "max= 4 cid= 2\n",
      "init p[idx]\n",
      "# 1 # 2 # 2 # 1 # 2 # 3 # 2 # 1 # \n",
      "\n",
      "1 2 1 0 0 0 0 0 0 0 0 0 0 0 0 0 0 \n",
      "\n",
      "max= 4 cid= 2\n",
      "4 2\n",
      "expand\n",
      "# 1 # 2 # 2 # 1 # 2 # 3 # 2 # 1 # \n",
      "\n",
      "1 2 1 0 0 0 0 0 0 0 0 0 0 0 0 0 0 \n",
      "\n",
      "max= 4 cid= 2\n",
      "step start\n",
      "# 1 # 2 # 2 # 1 # 2 # 3 # 2 # 1 # \n",
      "\n",
      "1 2 1 0 0 0 0 0 0 0 0 0 0 0 0 0 0 \n",
      "\n",
      "max= 4 cid= 2\n",
      "init p[idx]\n",
      "# 1 # 2 # 2 # 1 # 2 # 3 # 2 # 1 # \n",
      "\n",
      "1 2 1 1 0 0 0 0 0 0 0 0 0 0 0 0 0 \n",
      "\n",
      "max= 4 cid= 2\n",
      "5 3\n",
      "expand\n",
      "# 1 # 2 # 2 # 1 # 2 # 3 # 2 # 1 # \n",
      "\n",
      "1 2 1 2 0 0 0 0 0 0 0 0 0 0 0 0 0 \n",
      "\n",
      "max= 4 cid= 2\n",
      "step start\n",
      "# 1 # 2 # 2 # 1 # 2 # 3 # 2 # 1 # \n",
      "\n",
      "1 2 1 2 0 0 0 0 0 0 0 0 0 0 0 0 0 \n",
      "\n",
      "max= 6 cid= 4\n",
      "init p[idx]\n",
      "# 1 # 2 # 2 # 1 # 2 # 3 # 2 # 1 # \n",
      "\n",
      "1 2 1 2 1 0 0 0 0 0 0 0 0 0 0 0 0 \n",
      "\n",
      "max= 6 cid= 4\n",
      "6 4\n",
      "expand\n",
      "# 1 # 2 # 2 # 1 # 2 # 3 # 2 # 1 # \n",
      "\n",
      "1 2 1 2 5 0 0 0 0 0 0 0 0 0 0 0 0 \n",
      "\n",
      "max= 6 cid= 4\n",
      "step start\n",
      "# 1 # 2 # 2 # 1 # 2 # 3 # 2 # 1 # \n",
      "\n",
      "1 2 1 2 5 0 0 0 0 0 0 0 0 0 0 0 0 \n",
      "\n",
      "max= 10 cid= 5\n",
      "init p[idx]\n",
      "# 1 # 2 # 2 # 1 # 2 # 3 # 2 # 1 # \n",
      "\n",
      "1 2 1 2 5 2 0 0 0 0 0 0 0 0 0 0 0 \n",
      "\n",
      "max= 10 cid= 5\n",
      "8 4\n",
      "expand\n",
      "# 1 # 2 # 2 # 1 # 2 # 3 # 2 # 1 # \n",
      "\n",
      "1 2 1 2 5 2 0 0 0 0 0 0 0 0 0 0 0 \n",
      "\n",
      "max= 10 cid= 5\n",
      "step start\n",
      "# 1 # 2 # 2 # 1 # 2 # 3 # 2 # 1 # \n",
      "\n",
      "1 2 1 2 5 2 0 0 0 0 0 0 0 0 0 0 0 \n",
      "\n",
      "max= 10 cid= 5\n",
      "init p[idx]\n",
      "# 1 # 2 # 2 # 1 # 2 # 3 # 2 # 1 # \n",
      "\n",
      "1 2 1 2 5 2 1 0 0 0 0 0 0 0 0 0 0 \n",
      "\n",
      "max= 10 cid= 5\n",
      "8 6\n",
      "expand\n",
      "# 1 # 2 # 2 # 1 # 2 # 3 # 2 # 1 # \n",
      "\n",
      "1 2 1 2 5 2 1 0 0 0 0 0 0 0 0 0 0 \n",
      "\n",
      "max= 10 cid= 5\n",
      "step start\n",
      "# 1 # 2 # 2 # 1 # 2 # 3 # 2 # 1 # \n",
      "\n",
      "1 2 1 2 5 2 1 0 0 0 0 0 0 0 0 0 0 \n",
      "\n",
      "max= 10 cid= 5\n",
      "init p[idx]\n",
      "# 1 # 2 # 2 # 1 # 2 # 3 # 2 # 1 # \n",
      "\n",
      "1 2 1 2 5 2 1 2 0 0 0 0 0 0 0 0 0 \n",
      "\n",
      "max= 10 cid= 5\n",
      "10 6\n",
      "expand\n",
      "# 1 # 2 # 2 # 1 # 2 # 3 # 2 # 1 # \n",
      "\n",
      "1 2 1 2 5 2 1 4 0 0 0 0 0 0 0 0 0 \n",
      "\n",
      "max= 10 cid= 5\n",
      "step start\n",
      "# 1 # 2 # 2 # 1 # 2 # 3 # 2 # 1 # \n",
      "\n",
      "1 2 1 2 5 2 1 4 0 0 0 0 0 0 0 0 0 \n",
      "\n",
      "max= 12 cid= 8\n",
      "init p[idx]\n",
      "# 1 # 2 # 2 # 1 # 2 # 3 # 2 # 1 # \n",
      "\n",
      "1 2 1 2 5 2 1 4 1 0 0 0 0 0 0 0 0 \n",
      "\n",
      "max= 12 cid= 8\n",
      "10 8\n",
      "expand\n",
      "# 1 # 2 # 2 # 1 # 2 # 3 # 2 # 1 # \n",
      "\n",
      "1 2 1 2 5 2 1 4 1 0 0 0 0 0 0 0 0 \n",
      "\n",
      "max= 12 cid= 8\n",
      "step start\n",
      "# 1 # 2 # 2 # 1 # 2 # 3 # 2 # 1 # \n",
      "\n",
      "1 2 1 2 5 2 1 4 1 0 0 0 0 0 0 0 0 \n",
      "\n",
      "max= 12 cid= 8\n",
      "init p[idx]\n",
      "# 1 # 2 # 2 # 1 # 2 # 3 # 2 # 1 # \n",
      "\n",
      "1 2 1 2 5 2 1 4 1 2 0 0 0 0 0 0 0 \n",
      "\n",
      "max= 12 cid= 8\n",
      "12 8\n",
      "expand\n",
      "# 1 # 2 # 2 # 1 # 2 # 3 # 2 # 1 # \n",
      "\n",
      "1 2 1 2 5 2 1 4 1 2 0 0 0 0 0 0 0 \n",
      "\n",
      "max= 12 cid= 8\n",
      "step start\n",
      "# 1 # 2 # 2 # 1 # 2 # 3 # 2 # 1 # \n",
      "\n",
      "1 2 1 2 5 2 1 4 1 2 0 0 0 0 0 0 0 \n",
      "\n",
      "max= 12 cid= 8\n",
      "init p[idx]\n",
      "# 1 # 2 # 2 # 1 # 2 # 3 # 2 # 1 # \n",
      "\n",
      "1 2 1 2 5 2 1 4 1 2 1 0 0 0 0 0 0 \n",
      "\n",
      "max= 12 cid= 8\n",
      "12 10\n",
      "expand\n",
      "# 1 # 2 # 2 # 1 # 2 # 3 # 2 # 1 # \n",
      "\n",
      "1 2 1 2 5 2 1 4 1 2 1 0 0 0 0 0 0 \n",
      "\n",
      "max= 12 cid= 8\n",
      "step start\n",
      "# 1 # 2 # 2 # 1 # 2 # 3 # 2 # 1 # \n",
      "\n",
      "1 2 1 2 5 2 1 4 1 2 1 0 0 0 0 0 0 \n",
      "\n",
      "max= 12 cid= 8\n",
      "init p[idx]\n",
      "# 1 # 2 # 2 # 1 # 2 # 3 # 2 # 1 # \n",
      "\n",
      "1 2 1 2 5 2 1 4 1 2 1 1 0 0 0 0 0 \n",
      "\n",
      "max= 12 cid= 8\n",
      "13 11\n",
      "expand\n",
      "# 1 # 2 # 2 # 1 # 2 # 3 # 2 # 1 # \n",
      "\n",
      "1 2 1 2 5 2 1 4 1 2 1 6 0 0 0 0 0 \n",
      "\n",
      "max= 12 cid= 8\n",
      "step start\n",
      "# 1 # 2 # 2 # 1 # 2 # 3 # 2 # 1 # \n",
      "\n",
      "1 2 1 2 5 2 1 4 1 2 1 6 0 0 0 0 0 \n",
      "\n",
      "max= 18 cid= 12\n",
      "init p[idx]\n",
      "# 1 # 2 # 2 # 1 # 2 # 3 # 2 # 1 # \n",
      "\n",
      "1 2 1 2 5 2 1 4 1 2 1 6 1 0 0 0 0 \n",
      "\n",
      "max= 18 cid= 12\n",
      "14 12\n",
      "expand\n",
      "# 1 # 2 # 2 # 1 # 2 # 3 # 2 # 1 # \n",
      "\n",
      "1 2 1 2 5 2 1 4 1 2 1 6 1 0 0 0 0 \n",
      "\n",
      "max= 18 cid= 12\n",
      "step start\n",
      "# 1 # 2 # 2 # 1 # 2 # 3 # 2 # 1 # \n",
      "\n",
      "1 2 1 2 5 2 1 4 1 2 1 6 1 0 0 0 0 \n",
      "\n",
      "max= 18 cid= 12\n",
      "init p[idx]\n",
      "# 1 # 2 # 2 # 1 # 2 # 3 # 2 # 1 # \n",
      "\n",
      "1 2 1 2 5 2 1 4 1 2 1 6 1 2 0 0 0 \n",
      "\n",
      "max= 18 cid= 12\n",
      "16 12\n",
      "expand\n",
      "# 1 # 2 # 2 # 1 # 2 # 3 # 2 # 1 # \n",
      "\n",
      "1 2 1 2 5 2 1 4 1 2 1 6 1 2 0 0 0 \n",
      "\n",
      "max= 18 cid= 12\n",
      "step start\n",
      "# 1 # 2 # 2 # 1 # 2 # 3 # 2 # 1 # \n",
      "\n",
      "1 2 1 2 5 2 1 4 1 2 1 6 1 2 0 0 0 \n",
      "\n",
      "max= 18 cid= 12\n",
      "init p[idx]\n",
      "# 1 # 2 # 2 # 1 # 2 # 3 # 2 # 1 # \n",
      "\n",
      "1 2 1 2 5 2 1 4 1 2 1 6 1 2 1 0 0 \n",
      "\n",
      "max= 18 cid= 12\n",
      "16 14\n",
      "expand\n",
      "# 1 # 2 # 2 # 1 # 2 # 3 # 2 # 1 # \n",
      "\n",
      "1 2 1 2 5 2 1 4 1 2 1 6 1 2 1 0 0 \n",
      "\n",
      "max= 18 cid= 12\n",
      "step start\n",
      "# 1 # 2 # 2 # 1 # 2 # 3 # 2 # 1 # \n",
      "\n",
      "1 2 1 2 5 2 1 4 1 2 1 6 1 2 1 0 0 \n",
      "\n",
      "max= 18 cid= 12\n",
      "init p[idx]\n",
      "# 1 # 2 # 2 # 1 # 2 # 3 # 2 # 1 # \n",
      "\n",
      "1 2 1 2 5 2 1 4 1 2 1 6 1 2 1 2 0 \n",
      "\n",
      "max= 18 cid= 12\n",
      "18 14\n",
      "expand\n",
      "# 1 # 2 # 2 # 1 # 2 # 3 # 2 # 1 # \n",
      "\n",
      "1 2 1 2 5 2 1 4 1 2 1 6 1 2 1 2 0 \n",
      "\n",
      "max= 18 cid= 12\n",
      "step start\n",
      "# 1 # 2 # 2 # 1 # 2 # 3 # 2 # 1 # \n",
      "\n",
      "1 2 1 2 5 2 1 4 1 2 1 6 1 2 1 2 0 \n",
      "\n",
      "max= 18 cid= 12\n",
      "init p[idx]\n",
      "# 1 # 2 # 2 # 1 # 2 # 3 # 2 # 1 # \n",
      "\n",
      "1 2 1 2 5 2 1 4 1 2 1 6 1 2 1 2 1 \n",
      "\n",
      "max= 18 cid= 12\n",
      "18 16\n",
      "expand\n",
      "# 1 # 2 # 2 # 1 # 2 # 3 # 2 # 1 # \n",
      "\n",
      "1 2 1 2 5 2 1 4 1 2 1 6 1 2 1 2 1 \n",
      "\n",
      "max= 18 cid= 12\n",
      "18 12\n"
     ]
    }
   ],
   "source": [
    "p,cid,mx = np.zeros(len(ss),dtype=np.int32),0,0\n",
    "for idx, c in enumerate(ss):\n",
    "    print 'step start'\n",
    "    inspect(ss,p)\n",
    "    print 'max=',mx,'cid=',cid\n",
    "    p[idx] = min(p[2*cid - idx - 2],mx-idx-1) if mx > idx+1 else 1\n",
    "    print 'init p[idx]'\n",
    "    inspect(ss,p)\n",
    "    print 'max=',mx,'cid=',cid\n",
    "    print idx+1+p[idx],idx+1-p[idx]\n",
    "    \n",
    "    while idx >= p[idx] and idx+p[idx]<len(p) and ss[idx + p[idx]] == ss[idx - p[idx]]:\n",
    "        p[idx] = p[idx]+1\n",
    "    print 'expand'\n",
    "    inspect(ss,p) \n",
    "    print 'max=',mx,'cid=',cid\n",
    "\n",
    "    if idx+p[idx]+1>mx:\n",
    "        mx, cid = idx + p[idx] + 1,idx + 1\n",
    "\n",
    "print mx, cid\n",
    "    "
   ]
  },
  {
   "cell_type": "code",
   "execution_count": 123,
   "metadata": {
    "collapsed": false
   },
   "outputs": [
    {
     "name": "stdout",
     "output_type": "stream",
     "text": [
      "step start\n",
      "# 1 # 2 # 2 # 1 # 2 # 3 # 2 # 1 # \n",
      "\n",
      "0 0 0 0 0 0 0 0 0 0 0 0 0 0 0 0 0 \n",
      "\n",
      "max= 0 cid= 0\n",
      "init p[idx]\n",
      "# 1 # 2 # 2 # 1 # 2 # 3 # 2 # 1 # \n",
      "\n",
      "1 0 0 0 0 0 0 0 0 0 0 0 0 0 0 0 0 \n",
      "\n",
      "max= 0 cid= 0\n",
      "2 0\n",
      "expand\n",
      "# 1 # 2 # 2 # 1 # 2 # 3 # 2 # 1 # \n",
      "\n",
      "1 0 0 0 0 0 0 0 0 0 0 0 0 0 0 0 0 \n",
      "\n",
      "max= 0 cid= 0\n",
      "step start\n",
      "# 1 # 2 # 2 # 1 # 2 # 3 # 2 # 1 # \n",
      "\n",
      "1 0 0 0 0 0 0 0 0 0 0 0 0 0 0 0 0 \n",
      "\n",
      "max= 1 cid= 0\n",
      "init p[idx]\n",
      "# 1 # 2 # 2 # 1 # 2 # 3 # 2 # 1 # \n",
      "\n",
      "1 1 0 0 0 0 0 0 0 0 0 0 0 0 0 0 0 \n",
      "\n",
      "max= 1 cid= 0\n",
      "3 1\n",
      "expand\n",
      "# 1 # 2 # 2 # 1 # 2 # 3 # 2 # 1 # \n",
      "\n",
      "1 2 0 0 0 0 0 0 0 0 0 0 0 0 0 0 0 \n",
      "\n",
      "max= 1 cid= 0\n",
      "step start\n",
      "# 1 # 2 # 2 # 1 # 2 # 3 # 2 # 1 # \n",
      "\n",
      "1 2 0 0 0 0 0 0 0 0 0 0 0 0 0 0 0 \n",
      "\n",
      "max= 3 cid= 1\n",
      "init p[idx]\n",
      "# 1 # 2 # 2 # 1 # 2 # 3 # 2 # 1 # \n",
      "\n",
      "1 2 1 0 0 0 0 0 0 0 0 0 0 0 0 0 0 \n",
      "\n",
      "max= 3 cid= 1\n",
      "4 2\n",
      "expand\n",
      "# 1 # 2 # 2 # 1 # 2 # 3 # 2 # 1 # \n",
      "\n",
      "1 2 1 0 0 0 0 0 0 0 0 0 0 0 0 0 0 \n",
      "\n",
      "max= 3 cid= 1\n",
      "step start\n",
      "# 1 # 2 # 2 # 1 # 2 # 3 # 2 # 1 # \n",
      "\n",
      "1 2 1 0 0 0 0 0 0 0 0 0 0 0 0 0 0 \n",
      "\n",
      "max= 3 cid= 1\n",
      "init p[idx]\n",
      "# 1 # 2 # 2 # 1 # 2 # 3 # 2 # 1 # \n",
      "\n",
      "1 2 1 1 0 0 0 0 0 0 0 0 0 0 0 0 0 \n",
      "\n",
      "max= 3 cid= 1\n",
      "5 3\n",
      "expand\n",
      "# 1 # 2 # 2 # 1 # 2 # 3 # 2 # 1 # \n",
      "\n",
      "1 2 1 2 0 0 0 0 0 0 0 0 0 0 0 0 0 \n",
      "\n",
      "max= 3 cid= 1\n",
      "step start\n",
      "# 1 # 2 # 2 # 1 # 2 # 3 # 2 # 1 # \n",
      "\n",
      "1 2 1 2 0 0 0 0 0 0 0 0 0 0 0 0 0 \n",
      "\n",
      "max= 5 cid= 3\n",
      "init p[idx]\n",
      "# 1 # 2 # 2 # 1 # 2 # 3 # 2 # 1 # \n",
      "\n",
      "1 2 1 2 1 0 0 0 0 0 0 0 0 0 0 0 0 \n",
      "\n",
      "max= 5 cid= 3\n",
      "6 4\n",
      "expand\n",
      "# 1 # 2 # 2 # 1 # 2 # 3 # 2 # 1 # \n",
      "\n",
      "1 2 1 2 5 0 0 0 0 0 0 0 0 0 0 0 0 \n",
      "\n",
      "max= 5 cid= 3\n",
      "step start\n",
      "# 1 # 2 # 2 # 1 # 2 # 3 # 2 # 1 # \n",
      "\n",
      "1 2 1 2 5 0 0 0 0 0 0 0 0 0 0 0 0 \n",
      "\n",
      "max= 9 cid= 4\n",
      "init p[idx]\n",
      "# 1 # 2 # 2 # 1 # 2 # 3 # 2 # 1 # \n",
      "\n",
      "1 2 1 2 5 2 0 0 0 0 0 0 0 0 0 0 0 \n",
      "\n",
      "max= 9 cid= 4\n",
      "8 4\n",
      "expand\n",
      "# 1 # 2 # 2 # 1 # 2 # 3 # 2 # 1 # \n",
      "\n",
      "1 2 1 2 5 2 0 0 0 0 0 0 0 0 0 0 0 \n",
      "\n",
      "max= 9 cid= 4\n",
      "step start\n",
      "# 1 # 2 # 2 # 1 # 2 # 3 # 2 # 1 # \n",
      "\n",
      "1 2 1 2 5 2 0 0 0 0 0 0 0 0 0 0 0 \n",
      "\n",
      "max= 9 cid= 4\n",
      "init p[idx]\n",
      "# 1 # 2 # 2 # 1 # 2 # 3 # 2 # 1 # \n",
      "\n",
      "1 2 1 2 5 2 1 0 0 0 0 0 0 0 0 0 0 \n",
      "\n",
      "max= 9 cid= 4\n",
      "8 6\n",
      "expand\n",
      "# 1 # 2 # 2 # 1 # 2 # 3 # 2 # 1 # \n",
      "\n",
      "1 2 1 2 5 2 1 0 0 0 0 0 0 0 0 0 0 \n",
      "\n",
      "max= 9 cid= 4\n",
      "step start\n",
      "# 1 # 2 # 2 # 1 # 2 # 3 # 2 # 1 # \n",
      "\n",
      "1 2 1 2 5 2 1 0 0 0 0 0 0 0 0 0 0 \n",
      "\n",
      "max= 9 cid= 4\n",
      "init p[idx]\n",
      "# 1 # 2 # 2 # 1 # 2 # 3 # 2 # 1 # \n",
      "\n",
      "1 2 1 2 5 2 1 2 0 0 0 0 0 0 0 0 0 \n",
      "\n",
      "max= 9 cid= 4\n",
      "10 6\n",
      "expand\n",
      "# 1 # 2 # 2 # 1 # 2 # 3 # 2 # 1 # \n",
      "\n",
      "1 2 1 2 5 2 1 4 0 0 0 0 0 0 0 0 0 \n",
      "\n",
      "max= 9 cid= 4\n",
      "step start\n",
      "# 1 # 2 # 2 # 1 # 2 # 3 # 2 # 1 # \n",
      "\n",
      "1 2 1 2 5 2 1 4 0 0 0 0 0 0 0 0 0 \n",
      "\n",
      "max= 11 cid= 7\n",
      "init p[idx]\n",
      "# 1 # 2 # 2 # 1 # 2 # 3 # 2 # 1 # \n",
      "\n",
      "1 2 1 2 5 2 1 4 1 0 0 0 0 0 0 0 0 \n",
      "\n",
      "max= 11 cid= 7\n",
      "10 8\n",
      "expand\n",
      "# 1 # 2 # 2 # 1 # 2 # 3 # 2 # 1 # \n",
      "\n",
      "1 2 1 2 5 2 1 4 1 0 0 0 0 0 0 0 0 \n",
      "\n",
      "max= 11 cid= 7\n",
      "step start\n",
      "# 1 # 2 # 2 # 1 # 2 # 3 # 2 # 1 # \n",
      "\n",
      "1 2 1 2 5 2 1 4 1 0 0 0 0 0 0 0 0 \n",
      "\n",
      "max= 11 cid= 7\n",
      "init p[idx]\n",
      "# 1 # 2 # 2 # 1 # 2 # 3 # 2 # 1 # \n",
      "\n",
      "1 2 1 2 5 2 1 4 1 2 0 0 0 0 0 0 0 \n",
      "\n",
      "max= 11 cid= 7\n",
      "12 8\n",
      "expand\n",
      "# 1 # 2 # 2 # 1 # 2 # 3 # 2 # 1 # \n",
      "\n",
      "1 2 1 2 5 2 1 4 1 2 0 0 0 0 0 0 0 \n",
      "\n",
      "max= 11 cid= 7\n",
      "step start\n",
      "# 1 # 2 # 2 # 1 # 2 # 3 # 2 # 1 # \n",
      "\n",
      "1 2 1 2 5 2 1 4 1 2 0 0 0 0 0 0 0 \n",
      "\n",
      "max= 11 cid= 7\n",
      "init p[idx]\n",
      "# 1 # 2 # 2 # 1 # 2 # 3 # 2 # 1 # \n",
      "\n",
      "1 2 1 2 5 2 1 4 1 2 1 0 0 0 0 0 0 \n",
      "\n",
      "max= 11 cid= 7\n",
      "12 10\n",
      "expand\n",
      "# 1 # 2 # 2 # 1 # 2 # 3 # 2 # 1 # \n",
      "\n",
      "1 2 1 2 5 2 1 4 1 2 1 0 0 0 0 0 0 \n",
      "\n",
      "max= 11 cid= 7\n",
      "step start\n",
      "# 1 # 2 # 2 # 1 # 2 # 3 # 2 # 1 # \n",
      "\n",
      "1 2 1 2 5 2 1 4 1 2 1 0 0 0 0 0 0 \n",
      "\n",
      "max= 11 cid= 7\n",
      "init p[idx]\n",
      "# 1 # 2 # 2 # 1 # 2 # 3 # 2 # 1 # \n",
      "\n",
      "1 2 1 2 5 2 1 4 1 2 1 1 0 0 0 0 0 \n",
      "\n",
      "max= 11 cid= 7\n",
      "13 11\n",
      "expand\n",
      "# 1 # 2 # 2 # 1 # 2 # 3 # 2 # 1 # \n",
      "\n",
      "1 2 1 2 5 2 1 4 1 2 1 6 0 0 0 0 0 \n",
      "\n",
      "max= 11 cid= 7\n",
      "step start\n",
      "# 1 # 2 # 2 # 1 # 2 # 3 # 2 # 1 # \n",
      "\n",
      "1 2 1 2 5 2 1 4 1 2 1 6 0 0 0 0 0 \n",
      "\n",
      "max= 17 cid= 11\n",
      "init p[idx]\n",
      "# 1 # 2 # 2 # 1 # 2 # 3 # 2 # 1 # \n",
      "\n",
      "1 2 1 2 5 2 1 4 1 2 1 6 1 0 0 0 0 \n",
      "\n",
      "max= 17 cid= 11\n",
      "14 12\n",
      "expand\n",
      "# 1 # 2 # 2 # 1 # 2 # 3 # 2 # 1 # \n",
      "\n",
      "1 2 1 2 5 2 1 4 1 2 1 6 1 0 0 0 0 \n",
      "\n",
      "max= 17 cid= 11\n",
      "step start\n",
      "# 1 # 2 # 2 # 1 # 2 # 3 # 2 # 1 # \n",
      "\n",
      "1 2 1 2 5 2 1 4 1 2 1 6 1 0 0 0 0 \n",
      "\n",
      "max= 17 cid= 11\n",
      "init p[idx]\n",
      "# 1 # 2 # 2 # 1 # 2 # 3 # 2 # 1 # \n",
      "\n",
      "1 2 1 2 5 2 1 4 1 2 1 6 1 2 0 0 0 \n",
      "\n",
      "max= 17 cid= 11\n",
      "16 12\n",
      "expand\n",
      "# 1 # 2 # 2 # 1 # 2 # 3 # 2 # 1 # \n",
      "\n",
      "1 2 1 2 5 2 1 4 1 2 1 6 1 2 0 0 0 \n",
      "\n",
      "max= 17 cid= 11\n",
      "step start\n",
      "# 1 # 2 # 2 # 1 # 2 # 3 # 2 # 1 # \n",
      "\n",
      "1 2 1 2 5 2 1 4 1 2 1 6 1 2 0 0 0 \n",
      "\n",
      "max= 17 cid= 11\n",
      "init p[idx]\n",
      "# 1 # 2 # 2 # 1 # 2 # 3 # 2 # 1 # \n",
      "\n",
      "1 2 1 2 5 2 1 4 1 2 1 6 1 2 1 0 0 \n",
      "\n",
      "max= 17 cid= 11\n",
      "16 14\n",
      "expand\n",
      "# 1 # 2 # 2 # 1 # 2 # 3 # 2 # 1 # \n",
      "\n",
      "1 2 1 2 5 2 1 4 1 2 1 6 1 2 1 0 0 \n",
      "\n",
      "max= 17 cid= 11\n",
      "step start\n",
      "# 1 # 2 # 2 # 1 # 2 # 3 # 2 # 1 # \n",
      "\n",
      "1 2 1 2 5 2 1 4 1 2 1 6 1 2 1 0 0 \n",
      "\n",
      "max= 17 cid= 11\n",
      "init p[idx]\n",
      "# 1 # 2 # 2 # 1 # 2 # 3 # 2 # 1 # \n",
      "\n",
      "1 2 1 2 5 2 1 4 1 2 1 6 1 2 1 2 0 \n",
      "\n",
      "max= 17 cid= 11\n",
      "18 14\n",
      "expand\n",
      "# 1 # 2 # 2 # 1 # 2 # 3 # 2 # 1 # \n",
      "\n",
      "1 2 1 2 5 2 1 4 1 2 1 6 1 2 1 2 0 \n",
      "\n",
      "max= 17 cid= 11\n",
      "step start\n",
      "# 1 # 2 # 2 # 1 # 2 # 3 # 2 # 1 # \n",
      "\n",
      "1 2 1 2 5 2 1 4 1 2 1 6 1 2 1 2 0 \n",
      "\n",
      "max= 17 cid= 11\n",
      "init p[idx]\n",
      "# 1 # 2 # 2 # 1 # 2 # 3 # 2 # 1 # \n",
      "\n",
      "1 2 1 2 5 2 1 4 1 2 1 6 1 2 1 2 1 \n",
      "\n",
      "max= 17 cid= 11\n",
      "18 16\n",
      "expand\n",
      "# 1 # 2 # 2 # 1 # 2 # 3 # 2 # 1 # \n",
      "\n",
      "1 2 1 2 5 2 1 4 1 2 1 6 1 2 1 2 1 \n",
      "\n",
      "max= 17 cid= 11\n",
      "17 11\n"
     ]
    }
   ],
   "source": [
    "\n",
    "for idx, c in enumerate(ss):\n",
    "    print 'step start'\n",
    "    inspect(ss,p)\n",
    "    print 'max=',mx,'cid=',cid\n",
    "    p[idx] = min(p[ 2*cid - idx],mx-idx) if mx > idx else 1\n",
    "    print 'init p[idx]'\n",
    "    inspect(ss,p)\n",
    "    print 'max=',mx,'cid=',cid\n",
    "    print idx+1+p[idx],idx+1-p[idx]\n",
    "    \n",
    "    while idx >= p[idx] and idx+p[idx]<len(p) and ss[idx + p[idx]] == ss[idx - p[idx]]:\n",
    "        p[idx] = p[idx]+1\n",
    "    print 'expand'\n",
    "    inspect(ss,p) \n",
    "    print 'max=',mx,'cid=',cid\n",
    "\n",
    "    if idx+p[idx]>mx:\n",
    "        mx, cid = idx + p[idx],idx\n",
    "\n",
    "print mx, cid\n",
    "    "
   ]
  },
  {
   "cell_type": "code",
   "execution_count": 124,
   "metadata": {
    "collapsed": true
   },
   "outputs": [],
   "source": [
    "import numpy as np\n",
    "def LargestPalindrome(s):\n",
    "    ss = '#'+'#'.join(list(s))+'#'\n",
    "    p,cid,mx = np.zeros(len(ss),dtype=np.int32), 0, 0\n",
    "    for idx, c in enumerate(ss):\n",
    "        p[idx] = min(p[ 2*cid - idx],mx-idx) if mx > idx else 1\n",
    "        while idx >= p[idx] and idx+p[idx]<len(p) and ss[idx + p[idx]] == ss[idx - p[idx]]:\n",
    "            p[idx] = p[idx]+1\n",
    "        mx, cid = (idx + p[idx], idx) if idx+p[idx] > mx else (mx,cid)\n",
    "    return np.max(p)-1"
   ]
  },
  {
   "cell_type": "code",
   "execution_count": 126,
   "metadata": {
    "collapsed": false
   },
   "outputs": [
    {
     "data": {
      "text/plain": [
       "5"
      ]
     },
     "execution_count": 126,
     "metadata": {},
     "output_type": "execute_result"
    }
   ],
   "source": [
    "LargestPalindrome('12212321')"
   ]
  },
  {
   "cell_type": "code",
   "execution_count": 102,
   "metadata": {
    "collapsed": false
   },
   "outputs": [
    {
     "ename": "SyntaxError",
     "evalue": "invalid syntax (<ipython-input-102-fa6e8f5b01bd>, line 1)",
     "output_type": "error",
     "traceback": [
      "\u001b[0;36m  File \u001b[0;32m\"<ipython-input-102-fa6e8f5b01bd>\"\u001b[0;36m, line \u001b[0;32m1\u001b[0m\n\u001b[0;31m    int p[1000], mx = 0, id = 0;\u001b[0m\n\u001b[0m        ^\u001b[0m\n\u001b[0;31mSyntaxError\u001b[0m\u001b[0;31m:\u001b[0m invalid syntax\n"
     ]
    }
   ],
   "source": [
    "int p[1000], mx = 0, id = 0;\n",
    "memset(p, 0, sizeof(p));\n",
    "for (i = 1; s[i] != '\\0'; i++) \n",
    "{\n",
    "    p[i] = mx > i ? min(p[2 * id - i], mx - i) : 1;\n",
    "    while (s[i + p[i]] == s[i - p[i]]) \n",
    "        p[i]++;\n",
    "    if (i + p[i] > mx) \n",
    "    {\n",
    "        mx = i + p[i];\n",
    "        id = i;\n",
    "    }\n",
    "}"
   ]
  },
  {
   "cell_type": "code",
   "execution_count": 130,
   "metadata": {
    "collapsed": true
   },
   "outputs": [],
   "source": [
    "#coding=utf-8\n",
    "\n",
    "def ZigZag(s, n):\n",
    "    if n<3:\n",
    "        return None\n",
    "    m = n*2-2\n",
    "    res = s[::m]\n",
    "    for k in range(1,n-1):\n",
    "        res += ''.join( [i+'' if j==None else j for i,j in map(None,s[k::m],s[m-k::m])])\n",
    "    res += s[n-1::m]\n",
    "    return res"
   ]
  },
  {
   "cell_type": "code",
   "execution_count": 131,
   "metadata": {
    "collapsed": false
   },
   "outputs": [
    {
     "data": {
      "text/plain": [
       "'PAHNPSIGYIR'"
      ]
     },
     "execution_count": 131,
     "metadata": {},
     "output_type": "execute_result"
    }
   ],
   "source": [
    "ZigZag('PAYPALISHIRING',3)"
   ]
  },
  {
   "cell_type": "code",
   "execution_count": null,
   "metadata": {
    "collapsed": true
   },
   "outputs": [],
   "source": [
    "def ReverseInt(i):\n",
    "    while i>10:\n",
    "        "
   ]
  },
  {
   "cell_type": "code",
   "execution_count": 136,
   "metadata": {
    "collapsed": false
   },
   "outputs": [
    {
     "data": {
      "text/plain": [
       "0.0015621"
      ]
     },
     "execution_count": 136,
     "metadata": {},
     "output_type": "execute_result"
    }
   ],
   "source": [
    "np.float16(0.0015625213123124134134)"
   ]
  },
  {
   "cell_type": "code",
   "execution_count": 137,
   "metadata": {
    "collapsed": false
   },
   "outputs": [
    {
     "data": {
      "text/plain": [
       "[('b', 'b', 'b', 'b'),\n",
       " ('a', 'a', 'a', 'a'),\n",
       " ('d', 'd', 'x', 'd'),\n",
       " ('f', 's', 'a', 's'),\n",
       " ('a', 'd', 'd', None),\n",
       " ('s', 'x', 'f', None),\n",
       " (None, 'x', None, None)]"
      ]
     },
     "execution_count": 137,
     "metadata": {},
     "output_type": "execute_result"
    }
   ],
   "source": [
    "L = ['bad','badsdxx','baxadf','bads']\n",
    "\n",
    "import numpy as np\n",
    "\n",
    "def LongestCommonPrefix():\n",
    "    M = np.array(map(None,*L))\n",
    "    for i in range(M.shape[0]):\n",
    "        if np.all(M[i,:]==M[i,0]):\n",
    "            continue\n",
    "        else:\n",
    "            return i"
   ]
  },
  {
   "cell_type": "code",
   "execution_count": 139,
   "metadata": {
    "collapsed": false
   },
   "outputs": [],
   "source": [
    "import numpy, itertools"
   ]
  },
  {
   "cell_type": "code",
   "execution_count": 140,
   "metadata": {
    "collapsed": false
   },
   "outputs": [
    {
     "data": {
      "text/plain": [
       "<itertools.permutations at 0x7f9b53afafb0>"
      ]
     },
     "execution_count": 140,
     "metadata": {},
     "output_type": "execute_result"
    }
   ],
   "source": [
    "itertools.permutations((1,2,3))"
   ]
  },
  {
   "cell_type": "code",
   "execution_count": 141,
   "metadata": {
    "collapsed": false
   },
   "outputs": [
    {
     "data": {
      "text/plain": [
       "[(1, 2, 3), (1, 3, 2), (2, 1, 3), (2, 3, 1), (3, 1, 2), (3, 2, 1)]"
      ]
     },
     "execution_count": 141,
     "metadata": {},
     "output_type": "execute_result"
    }
   ],
   "source": [
    "numpy.array([(r,s,t)  for r,s,t in itertools.permutations((1,2,3)) if ])"
   ]
  },
  {
   "cell_type": "code",
   "execution_count": 142,
   "metadata": {
    "collapsed": true
   },
   "outputs": [],
   "source": [
    "import numpy as np\n",
    "\n",
    "def LongestCommonPrefix(L):\n",
    "    M = np.array(map(None,*L))\n",
    "    for i in range(M.shape[0]):\n",
    "        if np.all(M[i,:]==M[i,0]):\n",
    "            continue\n",
    "        else:\n",
    "            return i"
   ]
  },
  {
   "cell_type": "code",
   "execution_count": 148,
   "metadata": {
    "collapsed": false
   },
   "outputs": [
    {
     "data": {
      "text/plain": [
       "[('b', 'b', 'b', 'b'),\n",
       " ('a', 'a', 'a', 'a'),\n",
       " ('d', 'd', 'x', 'd'),\n",
       " (None, 's', 'a', 's'),\n",
       " (None, 'd', 'd', None),\n",
       " (None, 'x', 'f', None),\n",
       " (None, 'x', None, None)]"
      ]
     },
     "execution_count": 148,
     "metadata": {},
     "output_type": "execute_result"
    }
   ],
   "source": [
    "L = ['bad','badsdxx','baxadf','bads']\n",
    "map(None,*L)"
   ]
  },
  {
   "cell_type": "code",
   "execution_count": 149,
   "metadata": {
    "collapsed": false
   },
   "outputs": [
    {
     "data": {
      "text/plain": [
       "2"
      ]
     },
     "execution_count": 149,
     "metadata": {},
     "output_type": "execute_result"
    }
   ],
   "source": [
    "LongestCommonPrefix(L)"
   ]
  },
  {
   "cell_type": "code",
   "execution_count": 155,
   "metadata": {
    "collapsed": true
   },
   "outputs": [],
   "source": [
    "import numpy,itertools\n",
    "\n",
    "def ThreeSumNoDup(L):\n",
    "    \n",
    "    ArrayList, FS, ResultSet = \\\n",
    "        numpy.array(L), {k:[idx for idx,val in enumerate(L) if val==-k] for k in frozenset(numpy.array(L)*-1)}, set()\n",
    "    \n",
    "    if numpy.sum(ArrayList==0)>3 and (0,0,0) not in ResultSet:\n",
    "        ResultSet.add((0,0,0))\n",
    "        yield (0,0,0)\n",
    "    \n",
    "    for i,j in itertools.combinations(range(len(L)),2):\n",
    "        if L[i]+L[j] in FS and \\\n",
    "                (-2*L[i]!=L[j] or len(FS[-L[i]])>1 ) and \\\n",
    "                (-2*L[j]!=L[i] or len(FS[-L[j]])>1 ) and \\\n",
    "                len([(r,s,t) for r,s,t in itertools.permutations([L[i],L[j],-L[i]-L[j]]) if (r,s,t)in ResultSet])==0:\n",
    "            ResultSet.add((L[i],L[j],-L[i]-L[j]))\n",
    "            yield (L[i],L[j],-L[i]-L[j])\n",
    "            \n"
   ]
  },
  {
   "cell_type": "code",
   "execution_count": 157,
   "metadata": {
    "collapsed": false
   },
   "outputs": [
    {
     "data": {
      "text/plain": [
       "[(-1, 0, 1), (-1, 2, -1)]"
      ]
     },
     "execution_count": 157,
     "metadata": {},
     "output_type": "execute_result"
    }
   ],
   "source": [
    "L_example = [-1, 0, 1, 2, -1, -4]\n",
    "[(i,j,k) for i,j,k in  ThreeSumNoDup(L_example)]"
   ]
  },
  {
   "cell_type": "code",
   "execution_count": 181,
   "metadata": {
    "collapsed": true
   },
   "outputs": [],
   "source": [
    "import numpy,itertools\n",
    "\n",
    "def ThreeSumClosest(L, tar):\n",
    "    LL = list(L)\n",
    "    ArrayList, ResultSet, cur_max , cur_sum = \\\n",
    "        numpy.array(LL), {k:[idx for idx,val in enumerate(LL) if val==k] for k in LL}, None, None\n",
    "        \n",
    "    Dict_Sum = {(i,j):(LL[i]+LL[j]) for i,j in itertools.combinations(range(len(LL)),2)}\n",
    "    \n",
    "    for (i,j),v1 in Dict_Sum.iteritems():\n",
    "        for v2 in ResultSet:\n",
    "            if (cur_max==None or np.fabs(v1+v2-tar)<cur_max) and len(set(ResultSet[v2])-set([i,j]))>=1:\n",
    "                cur_max, cur_sum = (np.fabs(v1+v2-tar), v2+v1)\n",
    "    return cur_sum"
   ]
  },
  {
   "cell_type": "code",
   "execution_count": 182,
   "metadata": {
    "collapsed": false
   },
   "outputs": [
    {
     "data": {
      "text/plain": [
       "2"
      ]
     },
     "execution_count": 182,
     "metadata": {},
     "output_type": "execute_result"
    }
   ],
   "source": [
    "L_example = {-1,2,1,-4}\n",
    "t = 1\n",
    "ThreeSumClosest(L_example, t)"
   ]
  },
  {
   "cell_type": "code",
   "execution_count": 198,
   "metadata": {
    "collapsed": false
   },
   "outputs": [],
   "source": [
    "import numpy as np\n",
    "\n",
    "def RemoveDupInPlace(arr):\n",
    "    if not type(arr)!=np.array or len(arr.shape)>1:\n",
    "        return None\n",
    "    i, j, running = 0,0, arr[0]\n",
    "    for i in range(1,len(arr)):\n",
    "        if arr[i]!=running:\n",
    "            j+=1\n",
    "            arr[j] , running = arr[i], arr[i]\n",
    "    return j+1\n",
    "        "
   ]
  },
  {
   "cell_type": "code",
   "execution_count": 199,
   "metadata": {
    "collapsed": false
   },
   "outputs": [
    {
     "data": {
      "text/plain": [
       "1"
      ]
     },
     "execution_count": 199,
     "metadata": {},
     "output_type": "execute_result"
    }
   ],
   "source": [
    "len(np.array([1,2,3]).shape)"
   ]
  },
  {
   "cell_type": "code",
   "execution_count": 201,
   "metadata": {
    "collapsed": false
   },
   "outputs": [
    {
     "data": {
      "text/plain": [
       "(array([1, 2, 3, 5, 7, 3, 5, 5, 5, 5, 7]), array([1, 2, 3, 5, 7]))"
      ]
     },
     "execution_count": 201,
     "metadata": {},
     "output_type": "execute_result"
    }
   ],
   "source": [
    "arr = np.array([1,1,2,2,3,3,5,5,5,5,7])\n",
    "pos = RemoveDupInPlace(arr)\n",
    "arr, arr[:pos]"
   ]
  },
  {
   "cell_type": "code",
   "execution_count": null,
   "metadata": {
    "collapsed": true
   },
   "outputs": [],
   "source": []
  }
 ],
 "metadata": {
  "anaconda-cloud": {},
  "kernelspec": {
   "display_name": "Python [conda env:frankwang-cv]",
   "language": "python",
   "name": "conda-env-frankwang-cv-py"
  },
  "language_info": {
   "codemirror_mode": {
    "name": "ipython",
    "version": 2
   },
   "file_extension": ".py",
   "mimetype": "text/x-python",
   "name": "python",
   "nbconvert_exporter": "python",
   "pygments_lexer": "ipython2",
   "version": "2.7.12"
  }
 },
 "nbformat": 4,
 "nbformat_minor": 1
}
